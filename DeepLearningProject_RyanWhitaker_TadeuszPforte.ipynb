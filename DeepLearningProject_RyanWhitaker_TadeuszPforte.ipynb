{
  "cells": [
    {
      "cell_type": "code",
      "execution_count": 1,
      "metadata": {
        "colab": {
          "base_uri": "https://localhost:8080/"
        },
        "id": "PmKY7nCwPUN8",
        "outputId": "23b1e2db-e6c7-44fe-8653-f2a54e9821f0"
      },
      "outputs": [
        {
          "output_type": "stream",
          "name": "stdout",
          "text": [
            "Drive already mounted at /gdrive; to attempt to forcibly remount, call drive.mount(\"/gdrive\", force_remount=True).\n",
            "MyDrive  Shareddrives\n"
          ]
        }
      ],
      "source": [
        "# mount drive\n",
        "from google.colab import drive\n",
        "drive.mount('/gdrive')\n",
        "!ls /gdrive"
      ]
    },
    {
      "cell_type": "code",
      "execution_count": 2,
      "metadata": {
        "colab": {
          "base_uri": "https://localhost:8080/"
        },
        "id": "dmJ1o7RhPzeY",
        "outputId": "c306c18f-a953-42bf-8092-00e827f99ab4"
      },
      "outputs": [
        {
          "output_type": "stream",
          "name": "stdout",
          "text": [
            "Requirement already satisfied: psaw in /usr/local/lib/python3.7/dist-packages (0.1.0)\n",
            "Requirement already satisfied: Click in /usr/local/lib/python3.7/dist-packages (from psaw) (7.1.2)\n",
            "Requirement already satisfied: requests in /usr/local/lib/python3.7/dist-packages (from psaw) (2.23.0)\n",
            "Requirement already satisfied: urllib3!=1.25.0,!=1.25.1,<1.26,>=1.21.1 in /usr/local/lib/python3.7/dist-packages (from requests->psaw) (1.24.3)\n",
            "Requirement already satisfied: chardet<4,>=3.0.2 in /usr/local/lib/python3.7/dist-packages (from requests->psaw) (3.0.4)\n",
            "Requirement already satisfied: idna<3,>=2.5 in /usr/local/lib/python3.7/dist-packages (from requests->psaw) (2.10)\n",
            "Requirement already satisfied: certifi>=2017.4.17 in /usr/local/lib/python3.7/dist-packages (from requests->psaw) (2021.10.8)\n"
          ]
        }
      ],
      "source": [
        "# Get PSAW related imports\n",
        "!pip install psaw\n",
        "from psaw import PushshiftAPI\n",
        "import datetime as dt\n",
        "import pandas as pd\n",
        "\n",
        "api = PushshiftAPI()\n"
      ]
    },
    {
      "cell_type": "code",
      "execution_count": 3,
      "metadata": {
        "id": "VNlRiF8W8Dut"
      },
      "outputs": [],
      "source": [
        "default_subreddits = [\"AskReddit\",\"announcements\",\"funny\",\"pics\",\"todayilearned\",\"science\",\"IAmA\",\"blog\",\"videos\",\"worldnews\",\"gaming\",\"movies\",\"Music\",\"aww\",\"news\",\"gifs\",\"askscience\",\"explainlikeimfive\",\"EarthPorn\",\"books\",\"television\",\"LifeProTips\",\"sports\",\"DIY\",\"Showerthoughts\",\"space\",\"Jokes\",\"tifu\",\"food\",\"photoshopbattles\",\"Art\",\"InternetIsBeautiful\",\"mildlyinteresting\",\"GetMotivated\",\"history\",\"nottheonion\",\"gadgets\",\"dataisbeautiful\",\"Futurology\",\"Documentaries\",\"listentothis\",\"personalfinance\",\"philosophy\",\"nosleep\",\"creepy\",\"OldSchoolCool\",\"UpliftingNews\",\"WritingPrompts\",\"TwoXChromosomes\"]\n"
      ]
    },
    {
      "cell_type": "code",
      "execution_count": 4,
      "metadata": {
        "id": "D3r3e36HG85U"
      },
      "outputs": [],
      "source": [
        "load_from_file = True\n",
        "load_from_api = False\n",
        "if load_from_file:\n",
        "    # lala\n",
        "    !cp \"/gdrive/My Drive/colab_files/final/reddit_data_2020.csv\" \"reddit_data_2020.csv\"\n",
        "    posts_default_pastyear = pd.read_csv(\"reddit_data_2020.csv\")\n",
        "elif load_from_api:\n",
        "    req = api.search_submissions(after=one_year_ago,\n",
        "                                subreddit=default_subreddits,\n",
        "                                score=\">10\")\n",
        "    posts_default_pastyear = [post.d_ for post in req]\n",
        "    posts_default_pastyear = pd.DataFrame(posts_default_pastyear)\n",
        "    posts_default_pastyear = posts_default_pastyear[[\"title\", \"score\", \"subreddit\", \"created_utc\"]]\n",
        "\n",
        "    posts_default_pastyear.to_csv('reddit_data_short.csv')\n",
        "    !cp \"reddit_data.csv\" \"/gdrive/My Drive/colab_files/final/\""
      ]
    },
    {
      "cell_type": "code",
      "source": [
        "\n",
        "pd.set_option('display.max_columns', 500)\n",
        "pd.set_option('display.width', 500)\n",
        "\n",
        "posts_default_pastyear = posts_default_pastyear.dropna()\n",
        "posts_default_pastyear[\"score\"] = posts_default_pastyear[\"score\"].astype(float)\n",
        "# do binary mapping later\n",
        "#posts_default_pastyear[\"score\"] = [1 if x > 100 else 0 for x in posts_default_pastyear[\"score\"]]\n",
        "\n",
        "print(posts_default_pastyear.shape)\n",
        "print(posts_default_pastyear[[\"title\", \"score\", \"subreddit\"]].sort_values(\"score\", ascending=False).head(10))\n",
        "\n",
        "sample_data = posts_default_pastyear[[\"title\", \"score\"]]\n",
        "\n"
      ],
      "metadata": {
        "colab": {
          "base_uri": "https://localhost:8080/"
        },
        "id": "5Xo79sRoQIyj",
        "outputId": "4afbfe34-f513-49cc-ecda-1f9c62c5120c"
      },
      "execution_count": 5,
      "outputs": [
        {
          "output_type": "stream",
          "name": "stdout",
          "text": [
            "(287509, 5)\n",
            "                                                    title     score          subreddit\n",
            "172736                            At a protest in Arizona  217126.0               pics\n",
            "150058         This is the worst picture ever taken of me  160148.0               pics\n",
            "168274  This man saved our dog. You can see our cat ju...  155424.0               pics\n",
            "227910  Made her a bridge to the window she always sta...  147282.0                aww\n",
            "162619  Scottish Parliament votes for immediate suspen...  142729.0          worldnews\n",
            "236098  Due to less air pollution we now can actually ...  138408.0              funny\n",
            "159306                                       I love money  135845.0             gaming\n",
            "233168  I bought some suspiciously perfect bananas yes...  134622.0  mildlyinteresting\n",
            "169580                                  A friendly Lizard  132406.0              funny\n",
            "52003   There is a challenge where you put your hand n...  131320.0                aww\n"
          ]
        }
      ]
    },
    {
      "cell_type": "code",
      "source": [
        "from torch.utils.data import TensorDataset, random_split\n",
        "import numpy as np\n",
        "\n",
        "class_size = 10000\n",
        "\n",
        "class1_data = sample_data[sample_data[\"score\"] <= 1000]\n",
        "class0_data = class1_data[class1_data[\"score\"] <= 100]\n",
        "class1_data = class1_data[class1_data[\"score\"] > 100]\n",
        "class2_data = sample_data[sample_data[\"score\"] > 1000]\n",
        "\n",
        "print(class0_data.shape)\n",
        "print(class1_data.shape)\n",
        "print(class2_data.shape)\n",
        "\n",
        "class0_data = class0_data.sample(class_size)\n",
        "class1_data = class1_data.sample(class_size)\n",
        "class2_data = class2_data.sample(class_size)\n",
        "\n",
        "print(class0_data.shape)\n",
        "print(class1_data.shape)\n",
        "print(class2_data.shape)\n",
        "\n",
        "new_data = pd.concat([class0_data, class1_data, class2_data])\n",
        "print(new_data.shape)\n",
        "new_data = new_data.sample(frac=1)\n",
        "print(new_data.shape)\n",
        "print(new_data.tail())\n",
        "\n",
        "sample_data = new_data\n"
      ],
      "metadata": {
        "colab": {
          "base_uri": "https://localhost:8080/"
        },
        "id": "Q9W5p5GtkSow",
        "outputId": "a8fa7444-0a12-43ef-892b-897ccc5f972c"
      },
      "execution_count": 6,
      "outputs": [
        {
          "output_type": "stream",
          "name": "stdout",
          "text": [
            "(251957, 2)\n",
            "(25002, 2)\n",
            "(10550, 2)\n",
            "(10000, 2)\n",
            "(10000, 2)\n",
            "(10000, 2)\n",
            "(30000, 2)\n",
            "(30000, 2)\n",
            "                                                    title   score\n",
            "122781  My wife took some photos of her sister’s kitte...  2642.0\n",
            "283755                He just wants to help you work out!  9189.0\n",
            "128238                    Plz help I think I broke my cat    12.0\n",
            "15649               I did it: I reported my abuser today.   122.0\n",
            "245701                                           Mr Jesus  3263.0\n"
          ]
        }
      ]
    },
    {
      "cell_type": "code",
      "execution_count": 7,
      "metadata": {
        "id": "BBSqZywSL1WP",
        "colab": {
          "base_uri": "https://localhost:8080/"
        },
        "outputId": "bcb90e72-e42c-4316-bd01-43d9de76fc2a"
      },
      "outputs": [
        {
          "output_type": "stream",
          "name": "stdout",
          "text": [
            "Requirement already satisfied: transformers in /usr/local/lib/python3.7/dist-packages (4.13.0)\n",
            "Requirement already satisfied: regex!=2019.12.17 in /usr/local/lib/python3.7/dist-packages (from transformers) (2019.12.20)\n",
            "Requirement already satisfied: numpy>=1.17 in /usr/local/lib/python3.7/dist-packages (from transformers) (1.19.5)\n",
            "Requirement already satisfied: huggingface-hub<1.0,>=0.1.0 in /usr/local/lib/python3.7/dist-packages (from transformers) (0.2.1)\n",
            "Requirement already satisfied: requests in /usr/local/lib/python3.7/dist-packages (from transformers) (2.23.0)\n",
            "Requirement already satisfied: packaging>=20.0 in /usr/local/lib/python3.7/dist-packages (from transformers) (21.3)\n",
            "Requirement already satisfied: importlib-metadata in /usr/local/lib/python3.7/dist-packages (from transformers) (4.8.2)\n",
            "Requirement already satisfied: tokenizers<0.11,>=0.10.1 in /usr/local/lib/python3.7/dist-packages (from transformers) (0.10.3)\n",
            "Requirement already satisfied: filelock in /usr/local/lib/python3.7/dist-packages (from transformers) (3.4.0)\n",
            "Requirement already satisfied: pyyaml>=5.1 in /usr/local/lib/python3.7/dist-packages (from transformers) (6.0)\n",
            "Requirement already satisfied: sacremoses in /usr/local/lib/python3.7/dist-packages (from transformers) (0.0.46)\n",
            "Requirement already satisfied: tqdm>=4.27 in /usr/local/lib/python3.7/dist-packages (from transformers) (4.62.3)\n",
            "Requirement already satisfied: typing-extensions>=3.7.4.3 in /usr/local/lib/python3.7/dist-packages (from huggingface-hub<1.0,>=0.1.0->transformers) (3.10.0.2)\n",
            "Requirement already satisfied: pyparsing!=3.0.5,>=2.0.2 in /usr/local/lib/python3.7/dist-packages (from packaging>=20.0->transformers) (3.0.6)\n",
            "Requirement already satisfied: zipp>=0.5 in /usr/local/lib/python3.7/dist-packages (from importlib-metadata->transformers) (3.6.0)\n",
            "Requirement already satisfied: chardet<4,>=3.0.2 in /usr/local/lib/python3.7/dist-packages (from requests->transformers) (3.0.4)\n",
            "Requirement already satisfied: certifi>=2017.4.17 in /usr/local/lib/python3.7/dist-packages (from requests->transformers) (2021.10.8)\n",
            "Requirement already satisfied: urllib3!=1.25.0,!=1.25.1,<1.26,>=1.21.1 in /usr/local/lib/python3.7/dist-packages (from requests->transformers) (1.24.3)\n",
            "Requirement already satisfied: idna<3,>=2.5 in /usr/local/lib/python3.7/dist-packages (from requests->transformers) (2.10)\n",
            "Requirement already satisfied: click in /usr/local/lib/python3.7/dist-packages (from sacremoses->transformers) (7.1.2)\n",
            "Requirement already satisfied: joblib in /usr/local/lib/python3.7/dist-packages (from sacremoses->transformers) (1.1.0)\n",
            "Requirement already satisfied: six in /usr/local/lib/python3.7/dist-packages (from sacremoses->transformers) (1.15.0)\n"
          ]
        }
      ],
      "source": [
        "# Transformers/BERT imports/init\n",
        "!pip install transformers"
      ]
    },
    {
      "cell_type": "code",
      "execution_count": 8,
      "metadata": {
        "id": "z1lODXZ1BmXh"
      },
      "outputs": [],
      "source": [
        "from transformers import BertTokenizerFast\n",
        "\n",
        "tokenizer = BertTokenizerFast.from_pretrained(\"bert-base-uncased\", do_lower_case=True)"
      ]
    },
    {
      "cell_type": "code",
      "source": [
        "import torch\n",
        "\n",
        "use_cuda = torch.cuda.is_available()\n",
        "device = torch.device(\"cuda\" if use_cuda else \"cpu\")\n",
        "print('Version', torch.__version__)\n",
        "print('CUDA enabled:', use_cuda)\n"
      ],
      "metadata": {
        "colab": {
          "base_uri": "https://localhost:8080/"
        },
        "id": "WfmlipppRTlX",
        "outputId": "a9c5980e-b8a8-4ea8-9f3a-811264c5a874"
      },
      "execution_count": 9,
      "outputs": [
        {
          "output_type": "stream",
          "name": "stdout",
          "text": [
            "Version 1.10.0+cu111\n",
            "CUDA enabled: True\n"
          ]
        }
      ]
    },
    {
      "cell_type": "code",
      "source": [
        "titles = sample_data.title.values\n",
        "labels = sample_data.score.values\n",
        "\n",
        "#print(labels[50:70])\n",
        "#labels = [[0, 1] if l > 100 else [1, 0] for l in labels]\n",
        "new_labels = []\n",
        "for l in labels:\n",
        "    if l < 100:\n",
        "        new_labels.append([1, 0, 0])\n",
        "    elif l < 1000:\n",
        "        new_labels.append([0, 1, 0])\n",
        "    else:\n",
        "        new_labels.append([0, 0, 1])\n",
        "labels = new_labels\n",
        "\n",
        "#labels = [1 if l > 100 else 0 for l in labels]\n",
        "#print(labels[50:70])\n",
        "\n",
        "counts = [0, 0, 0]\n",
        "for label in labels:\n",
        "  counts[label.index(1)] += 1\n",
        "for i, count in enumerate(counts):\n",
        "  print('label ' + str(i + 1), ' count: ', str(count))\n",
        "  print(\"label \" + str(i + 1), ' percent: ', str(count / len(labels) * 100))\n",
        "\n",
        "\n",
        "print(' Original: ', titles[0])\n",
        "\n",
        "# Print the sentence split into tokens.\n",
        "print('Tokenized: ', tokenizer.tokenize(titles[0]))\n",
        "\n",
        "print('Token IDs: ', tokenizer.convert_tokens_to_ids(tokenizer.tokenize(titles[0])))\n",
        "\n",
        "print('Encoded:   ', tokenizer.encode(titles[0]))\n"
      ],
      "metadata": {
        "colab": {
          "base_uri": "https://localhost:8080/"
        },
        "id": "c8WoZvXnSQbt",
        "outputId": "2cd190cd-da13-4b7b-c06c-3544139fdb57"
      },
      "execution_count": 10,
      "outputs": [
        {
          "output_type": "stream",
          "name": "stdout",
          "text": [
            "label 1  count:  9992\n",
            "label 1  percent:  33.306666666666665\n",
            "label 2  count:  10006\n",
            "label 2  percent:  33.35333333333333\n",
            "label 3  count:  10002\n",
            "label 3  percent:  33.339999999999996\n",
            " Original:  I still think about this video at least once a week.\n",
            "Tokenized:  ['i', 'still', 'think', 'about', 'this', 'video', 'at', 'least', 'once', 'a', 'week', '.']\n",
            "Token IDs:  [1045, 2145, 2228, 2055, 2023, 2678, 2012, 2560, 2320, 1037, 2733, 1012]\n",
            "Encoded:    [101, 1045, 2145, 2228, 2055, 2023, 2678, 2012, 2560, 2320, 1037, 2733, 1012, 102]\n"
          ]
        }
      ]
    },
    {
      "cell_type": "code",
      "source": [
        "import traceback\n",
        "\n",
        "max_len = 0\n",
        "\n",
        "# For every sentence...\n",
        "for i, title in enumerate(titles):\n",
        "\n",
        "    # Tokenize the text and add `[CLS]` and `[SEP]` tokens.\n",
        "    input_ids = tokenizer.encode(title, add_special_tokens=True)\n",
        "    \n",
        "    # Update the maximum sentence length.\n",
        "    max_len = max(max_len, len(input_ids))\n",
        "\n",
        "print('Max sentence length: ', max_len)\n",
        "\n",
        "# use 128"
      ],
      "metadata": {
        "colab": {
          "base_uri": "https://localhost:8080/"
        },
        "id": "xrysnbbITcYY",
        "outputId": "8a2d71ea-4047-432b-dd8d-3993ce2466de"
      },
      "execution_count": 11,
      "outputs": [
        {
          "output_type": "stream",
          "name": "stdout",
          "text": [
            "Max sentence length:  116\n"
          ]
        }
      ]
    },
    {
      "cell_type": "code",
      "source": [
        "print(titles[0])"
      ],
      "metadata": {
        "colab": {
          "base_uri": "https://localhost:8080/"
        },
        "id": "Sbb_zSoiusQZ",
        "outputId": "5e5b1163-d920-424c-c987-b6f81b30077d"
      },
      "execution_count": 12,
      "outputs": [
        {
          "output_type": "stream",
          "name": "stdout",
          "text": [
            "I still think about this video at least once a week.\n"
          ]
        }
      ]
    },
    {
      "cell_type": "code",
      "source": [
        "# Tokenize all of the sentences and map the tokens to thier word IDs.\n",
        "input_ids = []\n",
        "attention_masks = []\n",
        "\n",
        "# For every sentence...\n",
        "for title in titles:\n",
        "    # `encode_plus` will:\n",
        "    #   (1) Tokenize the title.\n",
        "    #   (2) Prepend the `[CLS]` token to the start.\n",
        "    #   (3) Append the `[SEP]` token to the end.\n",
        "    #   (4) Map tokens to their IDs.\n",
        "    #   (5) Pad or truncate the sentence to `max_length`\n",
        "    #   (6) Create attention masks for [PAD] tokens.\n",
        "    encoded_dict = tokenizer.encode_plus(\n",
        "                        title,                     # Title to encode.\n",
        "                        add_special_tokens = True, # Add '[CLS]' and '[SEP]'\n",
        "                        max_length = 128,          # Pad & truncate all sentences.\n",
        "                        pad_to_max_length = True,\n",
        "                        return_attention_mask = True,   # Construct attn. masks.\n",
        "                        return_tensors = 'pt',     # Return pytorch tensors.\n",
        "                   )\n",
        "    \n",
        "    # Add the encoded sentence to the list.    \n",
        "    input_ids.append(encoded_dict['input_ids'])\n",
        "    \n",
        "    # And its attention mask (simply differentiates padding from non-padding).\n",
        "    attention_masks.append(encoded_dict['attention_mask'])\n",
        "\n",
        "# Convert the lists into tensors.\n",
        "input_ids = torch.cat(input_ids, dim=0)\n",
        "attention_masks = torch.cat(attention_masks, dim=0)\n",
        "labels = torch.tensor(labels).type(torch.FloatTensor)\n",
        "\n",
        "# Print sentence 0, now as a list of IDs.\n",
        "print('Original: ', titles[0])\n",
        "print('Token IDs:', input_ids[0])"
      ],
      "metadata": {
        "colab": {
          "base_uri": "https://localhost:8080/"
        },
        "id": "hys-N5MaTxB5",
        "outputId": "470bf452-1e3d-4c6b-a672-d8c9988464fb"
      },
      "execution_count": 13,
      "outputs": [
        {
          "output_type": "stream",
          "name": "stderr",
          "text": [
            "Truncation was not explicitly activated but `max_length` is provided a specific value, please use `truncation=True` to explicitly truncate examples to max length. Defaulting to 'longest_first' truncation strategy. If you encode pairs of sequences (GLUE-style) with the tokenizer you can select this strategy more precisely by providing a specific strategy to `truncation`.\n",
            "/usr/local/lib/python3.7/dist-packages/transformers/tokenization_utils_base.py:2227: FutureWarning: The `pad_to_max_length` argument is deprecated and will be removed in a future version, use `padding=True` or `padding='longest'` to pad to the longest sequence in the batch, or use `padding='max_length'` to pad to a max length. In this case, you can give a specific length with `max_length` (e.g. `max_length=45`) or leave max_length to None to pad to the maximal input size of the model (e.g. 512 for Bert).\n",
            "  FutureWarning,\n"
          ]
        },
        {
          "output_type": "stream",
          "name": "stdout",
          "text": [
            "Original:  I still think about this video at least once a week.\n",
            "Token IDs: tensor([ 101, 1045, 2145, 2228, 2055, 2023, 2678, 2012, 2560, 2320, 1037, 2733,\n",
            "        1012,  102,    0,    0,    0,    0,    0,    0,    0,    0,    0,    0,\n",
            "           0,    0,    0,    0,    0,    0,    0,    0,    0,    0,    0,    0,\n",
            "           0,    0,    0,    0,    0,    0,    0,    0,    0,    0,    0,    0,\n",
            "           0,    0,    0,    0,    0,    0,    0,    0,    0,    0,    0,    0,\n",
            "           0,    0,    0,    0,    0,    0,    0,    0,    0,    0,    0,    0,\n",
            "           0,    0,    0,    0,    0,    0,    0,    0,    0,    0,    0,    0,\n",
            "           0,    0,    0,    0,    0,    0,    0,    0,    0,    0,    0,    0,\n",
            "           0,    0,    0,    0,    0,    0,    0,    0,    0,    0,    0,    0,\n",
            "           0,    0,    0,    0,    0,    0,    0,    0,    0,    0,    0,    0,\n",
            "           0,    0,    0,    0,    0,    0,    0,    0])\n"
          ]
        }
      ]
    },
    {
      "cell_type": "code",
      "source": [
        "print(labels[0])"
      ],
      "metadata": {
        "colab": {
          "base_uri": "https://localhost:8080/"
        },
        "id": "iq0rZ_JUX1eR",
        "outputId": "d923faca-0210-4253-fa51-3ba89c2aa62f"
      },
      "execution_count": 14,
      "outputs": [
        {
          "output_type": "stream",
          "name": "stdout",
          "text": [
            "tensor([0., 0., 1.])\n"
          ]
        }
      ]
    },
    {
      "cell_type": "code",
      "source": [
        "from torch.utils.data import TensorDataset, random_split\n",
        "import numpy as np\n",
        "\n",
        "# Combine the training inputs into a TensorDataset.\n",
        "dataset = TensorDataset(input_ids, attention_masks, labels)\n",
        "\n",
        "# Create an 80-10-10 train-validation-test split\n",
        "sizes = [0, 0, 0]\n",
        "sizes[0] = int(0.8 * len(dataset))\n",
        "sizes[1] = int(0.1 * len(dataset))\n",
        "sizes[2] = len(dataset) - sizes[0] - sizes[1]\n",
        "\n",
        "# Divide the dataset by randomly selecting samples.\n",
        "train_dataset, val_dataset, test_dataset = random_split(dataset, sizes)\n",
        "\n",
        "print('{:>5,} training samples'.format(sizes[0]))\n",
        "print('{:>5,} validation samples'.format(sizes[1]))\n",
        "print('{:>5,} test samples'.format(sizes[2]))\n"
      ],
      "metadata": {
        "colab": {
          "base_uri": "https://localhost:8080/"
        },
        "id": "jUdDXE3zUN-_",
        "outputId": "8b3d6da0-9cbe-4eca-9fcc-8da3c9243c48"
      },
      "execution_count": 15,
      "outputs": [
        {
          "output_type": "stream",
          "name": "stdout",
          "text": [
            "24,000 training samples\n",
            "3,000 validation samples\n",
            "3,000 test samples\n"
          ]
        }
      ]
    },
    {
      "cell_type": "code",
      "source": [
        "c = [0, 0, 0]\n",
        "for point in dataset:\n",
        "    c[np.argmax(point[2]).item()] += 1\n",
        "    \n",
        "print(c)"
      ],
      "metadata": {
        "colab": {
          "base_uri": "https://localhost:8080/"
        },
        "id": "qc31QUjbvlUX",
        "outputId": "1ed997db-dcb1-44a0-aa11-ff7c7e576270"
      },
      "execution_count": 16,
      "outputs": [
        {
          "output_type": "stream",
          "name": "stdout",
          "text": [
            "[9992, 10006, 10002]\n"
          ]
        }
      ]
    },
    {
      "cell_type": "code",
      "source": [
        "from torch.utils.data import DataLoader, RandomSampler, SequentialSampler\n",
        "\n",
        "# The DataLoader needs to know our batch size for training, so we specify it \n",
        "# here. For fine-tuning BERT on a specific task, the authors recommend a batch \n",
        "# size of 16 or 32.\n",
        "batch_size = 32\n",
        "\n",
        "# Create the DataLoaders for our training and validation sets.\n",
        "# We'll take training samples in random order. \n",
        "train_dataloader = DataLoader(\n",
        "    train_dataset,  # The training samples.\n",
        "    sampler = RandomSampler(train_dataset), # Select batches randomly\n",
        "    batch_size = batch_size # Trains with this batch size.\n",
        ")\n",
        "\n",
        "# For validation the order doesn't matter, so we'll just read them sequentially.\n",
        "validation_dataloader = DataLoader(\n",
        "    val_dataset, # The validation samples.\n",
        "    sampler = SequentialSampler(val_dataset), # Pull out batches sequentially.\n",
        "    batch_size = batch_size # Evaluate with this batch size.\n",
        ")\n",
        "\n",
        "test_dataloader = DataLoader(\n",
        "    test_dataset,\n",
        "    sampler = SequentialSampler(test_dataset),\n",
        "    batch_size=batch_size\n",
        ")\n"
      ],
      "metadata": {
        "id": "8bM7sRh-Uall"
      },
      "execution_count": 17,
      "outputs": []
    },
    {
      "cell_type": "code",
      "source": [
        "from transformers import BertModel\n",
        "from transformers import BertForSequenceClassification, BertConfig\n",
        "import torch.nn as nn\n",
        "\n",
        "class Net(torch.nn.Module): \n",
        "    def __init__(self, drop_rate=0.2): \n",
        "        super(Net, self).__init__() \n",
        "        self.bert = BertModel.from_pretrained('bert-base-uncased')\n",
        "        for p in self.bert.parameters():\n",
        "            p.requires_grad = False\n",
        "        self.regressor = nn.Sequential(\n",
        "            nn.Dropout(drop_rate),\n",
        "            nn.Linear(768, 1)\n",
        "        )\n",
        "\n",
        "    def forward(self, input, mask):\n",
        "        _, output = self.bert(input, attention_mask=mask, return_dict=False)\n",
        "        output = self.regressor(output)\n",
        "        return output\n",
        "        \n",
        "#regression_model = Net()\n",
        "\n",
        "classification_model = BertForSequenceClassification.from_pretrained(\n",
        "          \"bert-base-uncased\", # Use the 12-layer BERT model, with an uncased vocab.\n",
        "          num_labels = 3, # The number of output labels--2 for binary classification.\n",
        "          output_attentions = False, # Whether the model returns attentions weights.\n",
        "          output_hidden_states = False, # Whether the model returns all hidden-states.\n",
        ")\n",
        "classification_model.to(device)"
      ],
      "metadata": {
        "id": "v4MNhHZLVcgg",
        "colab": {
          "base_uri": "https://localhost:8080/"
        },
        "outputId": "7166f5a1-d708-4c68-e10c-dbe3031a325e"
      },
      "execution_count": 18,
      "outputs": [
        {
          "output_type": "stream",
          "name": "stderr",
          "text": [
            "Some weights of the model checkpoint at bert-base-uncased were not used when initializing BertForSequenceClassification: ['cls.predictions.bias', 'cls.predictions.decoder.weight', 'cls.seq_relationship.bias', 'cls.predictions.transform.dense.bias', 'cls.seq_relationship.weight', 'cls.predictions.transform.LayerNorm.weight', 'cls.predictions.transform.dense.weight', 'cls.predictions.transform.LayerNorm.bias']\n",
            "- This IS expected if you are initializing BertForSequenceClassification from the checkpoint of a model trained on another task or with another architecture (e.g. initializing a BertForSequenceClassification model from a BertForPreTraining model).\n",
            "- This IS NOT expected if you are initializing BertForSequenceClassification from the checkpoint of a model that you expect to be exactly identical (initializing a BertForSequenceClassification model from a BertForSequenceClassification model).\n",
            "Some weights of BertForSequenceClassification were not initialized from the model checkpoint at bert-base-uncased and are newly initialized: ['classifier.bias', 'classifier.weight']\n",
            "You should probably TRAIN this model on a down-stream task to be able to use it for predictions and inference.\n"
          ]
        },
        {
          "output_type": "execute_result",
          "data": {
            "text/plain": [
              "BertForSequenceClassification(\n",
              "  (bert): BertModel(\n",
              "    (embeddings): BertEmbeddings(\n",
              "      (word_embeddings): Embedding(30522, 768, padding_idx=0)\n",
              "      (position_embeddings): Embedding(512, 768)\n",
              "      (token_type_embeddings): Embedding(2, 768)\n",
              "      (LayerNorm): LayerNorm((768,), eps=1e-12, elementwise_affine=True)\n",
              "      (dropout): Dropout(p=0.1, inplace=False)\n",
              "    )\n",
              "    (encoder): BertEncoder(\n",
              "      (layer): ModuleList(\n",
              "        (0): BertLayer(\n",
              "          (attention): BertAttention(\n",
              "            (self): BertSelfAttention(\n",
              "              (query): Linear(in_features=768, out_features=768, bias=True)\n",
              "              (key): Linear(in_features=768, out_features=768, bias=True)\n",
              "              (value): Linear(in_features=768, out_features=768, bias=True)\n",
              "              (dropout): Dropout(p=0.1, inplace=False)\n",
              "            )\n",
              "            (output): BertSelfOutput(\n",
              "              (dense): Linear(in_features=768, out_features=768, bias=True)\n",
              "              (LayerNorm): LayerNorm((768,), eps=1e-12, elementwise_affine=True)\n",
              "              (dropout): Dropout(p=0.1, inplace=False)\n",
              "            )\n",
              "          )\n",
              "          (intermediate): BertIntermediate(\n",
              "            (dense): Linear(in_features=768, out_features=3072, bias=True)\n",
              "          )\n",
              "          (output): BertOutput(\n",
              "            (dense): Linear(in_features=3072, out_features=768, bias=True)\n",
              "            (LayerNorm): LayerNorm((768,), eps=1e-12, elementwise_affine=True)\n",
              "            (dropout): Dropout(p=0.1, inplace=False)\n",
              "          )\n",
              "        )\n",
              "        (1): BertLayer(\n",
              "          (attention): BertAttention(\n",
              "            (self): BertSelfAttention(\n",
              "              (query): Linear(in_features=768, out_features=768, bias=True)\n",
              "              (key): Linear(in_features=768, out_features=768, bias=True)\n",
              "              (value): Linear(in_features=768, out_features=768, bias=True)\n",
              "              (dropout): Dropout(p=0.1, inplace=False)\n",
              "            )\n",
              "            (output): BertSelfOutput(\n",
              "              (dense): Linear(in_features=768, out_features=768, bias=True)\n",
              "              (LayerNorm): LayerNorm((768,), eps=1e-12, elementwise_affine=True)\n",
              "              (dropout): Dropout(p=0.1, inplace=False)\n",
              "            )\n",
              "          )\n",
              "          (intermediate): BertIntermediate(\n",
              "            (dense): Linear(in_features=768, out_features=3072, bias=True)\n",
              "          )\n",
              "          (output): BertOutput(\n",
              "            (dense): Linear(in_features=3072, out_features=768, bias=True)\n",
              "            (LayerNorm): LayerNorm((768,), eps=1e-12, elementwise_affine=True)\n",
              "            (dropout): Dropout(p=0.1, inplace=False)\n",
              "          )\n",
              "        )\n",
              "        (2): BertLayer(\n",
              "          (attention): BertAttention(\n",
              "            (self): BertSelfAttention(\n",
              "              (query): Linear(in_features=768, out_features=768, bias=True)\n",
              "              (key): Linear(in_features=768, out_features=768, bias=True)\n",
              "              (value): Linear(in_features=768, out_features=768, bias=True)\n",
              "              (dropout): Dropout(p=0.1, inplace=False)\n",
              "            )\n",
              "            (output): BertSelfOutput(\n",
              "              (dense): Linear(in_features=768, out_features=768, bias=True)\n",
              "              (LayerNorm): LayerNorm((768,), eps=1e-12, elementwise_affine=True)\n",
              "              (dropout): Dropout(p=0.1, inplace=False)\n",
              "            )\n",
              "          )\n",
              "          (intermediate): BertIntermediate(\n",
              "            (dense): Linear(in_features=768, out_features=3072, bias=True)\n",
              "          )\n",
              "          (output): BertOutput(\n",
              "            (dense): Linear(in_features=3072, out_features=768, bias=True)\n",
              "            (LayerNorm): LayerNorm((768,), eps=1e-12, elementwise_affine=True)\n",
              "            (dropout): Dropout(p=0.1, inplace=False)\n",
              "          )\n",
              "        )\n",
              "        (3): BertLayer(\n",
              "          (attention): BertAttention(\n",
              "            (self): BertSelfAttention(\n",
              "              (query): Linear(in_features=768, out_features=768, bias=True)\n",
              "              (key): Linear(in_features=768, out_features=768, bias=True)\n",
              "              (value): Linear(in_features=768, out_features=768, bias=True)\n",
              "              (dropout): Dropout(p=0.1, inplace=False)\n",
              "            )\n",
              "            (output): BertSelfOutput(\n",
              "              (dense): Linear(in_features=768, out_features=768, bias=True)\n",
              "              (LayerNorm): LayerNorm((768,), eps=1e-12, elementwise_affine=True)\n",
              "              (dropout): Dropout(p=0.1, inplace=False)\n",
              "            )\n",
              "          )\n",
              "          (intermediate): BertIntermediate(\n",
              "            (dense): Linear(in_features=768, out_features=3072, bias=True)\n",
              "          )\n",
              "          (output): BertOutput(\n",
              "            (dense): Linear(in_features=3072, out_features=768, bias=True)\n",
              "            (LayerNorm): LayerNorm((768,), eps=1e-12, elementwise_affine=True)\n",
              "            (dropout): Dropout(p=0.1, inplace=False)\n",
              "          )\n",
              "        )\n",
              "        (4): BertLayer(\n",
              "          (attention): BertAttention(\n",
              "            (self): BertSelfAttention(\n",
              "              (query): Linear(in_features=768, out_features=768, bias=True)\n",
              "              (key): Linear(in_features=768, out_features=768, bias=True)\n",
              "              (value): Linear(in_features=768, out_features=768, bias=True)\n",
              "              (dropout): Dropout(p=0.1, inplace=False)\n",
              "            )\n",
              "            (output): BertSelfOutput(\n",
              "              (dense): Linear(in_features=768, out_features=768, bias=True)\n",
              "              (LayerNorm): LayerNorm((768,), eps=1e-12, elementwise_affine=True)\n",
              "              (dropout): Dropout(p=0.1, inplace=False)\n",
              "            )\n",
              "          )\n",
              "          (intermediate): BertIntermediate(\n",
              "            (dense): Linear(in_features=768, out_features=3072, bias=True)\n",
              "          )\n",
              "          (output): BertOutput(\n",
              "            (dense): Linear(in_features=3072, out_features=768, bias=True)\n",
              "            (LayerNorm): LayerNorm((768,), eps=1e-12, elementwise_affine=True)\n",
              "            (dropout): Dropout(p=0.1, inplace=False)\n",
              "          )\n",
              "        )\n",
              "        (5): BertLayer(\n",
              "          (attention): BertAttention(\n",
              "            (self): BertSelfAttention(\n",
              "              (query): Linear(in_features=768, out_features=768, bias=True)\n",
              "              (key): Linear(in_features=768, out_features=768, bias=True)\n",
              "              (value): Linear(in_features=768, out_features=768, bias=True)\n",
              "              (dropout): Dropout(p=0.1, inplace=False)\n",
              "            )\n",
              "            (output): BertSelfOutput(\n",
              "              (dense): Linear(in_features=768, out_features=768, bias=True)\n",
              "              (LayerNorm): LayerNorm((768,), eps=1e-12, elementwise_affine=True)\n",
              "              (dropout): Dropout(p=0.1, inplace=False)\n",
              "            )\n",
              "          )\n",
              "          (intermediate): BertIntermediate(\n",
              "            (dense): Linear(in_features=768, out_features=3072, bias=True)\n",
              "          )\n",
              "          (output): BertOutput(\n",
              "            (dense): Linear(in_features=3072, out_features=768, bias=True)\n",
              "            (LayerNorm): LayerNorm((768,), eps=1e-12, elementwise_affine=True)\n",
              "            (dropout): Dropout(p=0.1, inplace=False)\n",
              "          )\n",
              "        )\n",
              "        (6): BertLayer(\n",
              "          (attention): BertAttention(\n",
              "            (self): BertSelfAttention(\n",
              "              (query): Linear(in_features=768, out_features=768, bias=True)\n",
              "              (key): Linear(in_features=768, out_features=768, bias=True)\n",
              "              (value): Linear(in_features=768, out_features=768, bias=True)\n",
              "              (dropout): Dropout(p=0.1, inplace=False)\n",
              "            )\n",
              "            (output): BertSelfOutput(\n",
              "              (dense): Linear(in_features=768, out_features=768, bias=True)\n",
              "              (LayerNorm): LayerNorm((768,), eps=1e-12, elementwise_affine=True)\n",
              "              (dropout): Dropout(p=0.1, inplace=False)\n",
              "            )\n",
              "          )\n",
              "          (intermediate): BertIntermediate(\n",
              "            (dense): Linear(in_features=768, out_features=3072, bias=True)\n",
              "          )\n",
              "          (output): BertOutput(\n",
              "            (dense): Linear(in_features=3072, out_features=768, bias=True)\n",
              "            (LayerNorm): LayerNorm((768,), eps=1e-12, elementwise_affine=True)\n",
              "            (dropout): Dropout(p=0.1, inplace=False)\n",
              "          )\n",
              "        )\n",
              "        (7): BertLayer(\n",
              "          (attention): BertAttention(\n",
              "            (self): BertSelfAttention(\n",
              "              (query): Linear(in_features=768, out_features=768, bias=True)\n",
              "              (key): Linear(in_features=768, out_features=768, bias=True)\n",
              "              (value): Linear(in_features=768, out_features=768, bias=True)\n",
              "              (dropout): Dropout(p=0.1, inplace=False)\n",
              "            )\n",
              "            (output): BertSelfOutput(\n",
              "              (dense): Linear(in_features=768, out_features=768, bias=True)\n",
              "              (LayerNorm): LayerNorm((768,), eps=1e-12, elementwise_affine=True)\n",
              "              (dropout): Dropout(p=0.1, inplace=False)\n",
              "            )\n",
              "          )\n",
              "          (intermediate): BertIntermediate(\n",
              "            (dense): Linear(in_features=768, out_features=3072, bias=True)\n",
              "          )\n",
              "          (output): BertOutput(\n",
              "            (dense): Linear(in_features=3072, out_features=768, bias=True)\n",
              "            (LayerNorm): LayerNorm((768,), eps=1e-12, elementwise_affine=True)\n",
              "            (dropout): Dropout(p=0.1, inplace=False)\n",
              "          )\n",
              "        )\n",
              "        (8): BertLayer(\n",
              "          (attention): BertAttention(\n",
              "            (self): BertSelfAttention(\n",
              "              (query): Linear(in_features=768, out_features=768, bias=True)\n",
              "              (key): Linear(in_features=768, out_features=768, bias=True)\n",
              "              (value): Linear(in_features=768, out_features=768, bias=True)\n",
              "              (dropout): Dropout(p=0.1, inplace=False)\n",
              "            )\n",
              "            (output): BertSelfOutput(\n",
              "              (dense): Linear(in_features=768, out_features=768, bias=True)\n",
              "              (LayerNorm): LayerNorm((768,), eps=1e-12, elementwise_affine=True)\n",
              "              (dropout): Dropout(p=0.1, inplace=False)\n",
              "            )\n",
              "          )\n",
              "          (intermediate): BertIntermediate(\n",
              "            (dense): Linear(in_features=768, out_features=3072, bias=True)\n",
              "          )\n",
              "          (output): BertOutput(\n",
              "            (dense): Linear(in_features=3072, out_features=768, bias=True)\n",
              "            (LayerNorm): LayerNorm((768,), eps=1e-12, elementwise_affine=True)\n",
              "            (dropout): Dropout(p=0.1, inplace=False)\n",
              "          )\n",
              "        )\n",
              "        (9): BertLayer(\n",
              "          (attention): BertAttention(\n",
              "            (self): BertSelfAttention(\n",
              "              (query): Linear(in_features=768, out_features=768, bias=True)\n",
              "              (key): Linear(in_features=768, out_features=768, bias=True)\n",
              "              (value): Linear(in_features=768, out_features=768, bias=True)\n",
              "              (dropout): Dropout(p=0.1, inplace=False)\n",
              "            )\n",
              "            (output): BertSelfOutput(\n",
              "              (dense): Linear(in_features=768, out_features=768, bias=True)\n",
              "              (LayerNorm): LayerNorm((768,), eps=1e-12, elementwise_affine=True)\n",
              "              (dropout): Dropout(p=0.1, inplace=False)\n",
              "            )\n",
              "          )\n",
              "          (intermediate): BertIntermediate(\n",
              "            (dense): Linear(in_features=768, out_features=3072, bias=True)\n",
              "          )\n",
              "          (output): BertOutput(\n",
              "            (dense): Linear(in_features=3072, out_features=768, bias=True)\n",
              "            (LayerNorm): LayerNorm((768,), eps=1e-12, elementwise_affine=True)\n",
              "            (dropout): Dropout(p=0.1, inplace=False)\n",
              "          )\n",
              "        )\n",
              "        (10): BertLayer(\n",
              "          (attention): BertAttention(\n",
              "            (self): BertSelfAttention(\n",
              "              (query): Linear(in_features=768, out_features=768, bias=True)\n",
              "              (key): Linear(in_features=768, out_features=768, bias=True)\n",
              "              (value): Linear(in_features=768, out_features=768, bias=True)\n",
              "              (dropout): Dropout(p=0.1, inplace=False)\n",
              "            )\n",
              "            (output): BertSelfOutput(\n",
              "              (dense): Linear(in_features=768, out_features=768, bias=True)\n",
              "              (LayerNorm): LayerNorm((768,), eps=1e-12, elementwise_affine=True)\n",
              "              (dropout): Dropout(p=0.1, inplace=False)\n",
              "            )\n",
              "          )\n",
              "          (intermediate): BertIntermediate(\n",
              "            (dense): Linear(in_features=768, out_features=3072, bias=True)\n",
              "          )\n",
              "          (output): BertOutput(\n",
              "            (dense): Linear(in_features=3072, out_features=768, bias=True)\n",
              "            (LayerNorm): LayerNorm((768,), eps=1e-12, elementwise_affine=True)\n",
              "            (dropout): Dropout(p=0.1, inplace=False)\n",
              "          )\n",
              "        )\n",
              "        (11): BertLayer(\n",
              "          (attention): BertAttention(\n",
              "            (self): BertSelfAttention(\n",
              "              (query): Linear(in_features=768, out_features=768, bias=True)\n",
              "              (key): Linear(in_features=768, out_features=768, bias=True)\n",
              "              (value): Linear(in_features=768, out_features=768, bias=True)\n",
              "              (dropout): Dropout(p=0.1, inplace=False)\n",
              "            )\n",
              "            (output): BertSelfOutput(\n",
              "              (dense): Linear(in_features=768, out_features=768, bias=True)\n",
              "              (LayerNorm): LayerNorm((768,), eps=1e-12, elementwise_affine=True)\n",
              "              (dropout): Dropout(p=0.1, inplace=False)\n",
              "            )\n",
              "          )\n",
              "          (intermediate): BertIntermediate(\n",
              "            (dense): Linear(in_features=768, out_features=3072, bias=True)\n",
              "          )\n",
              "          (output): BertOutput(\n",
              "            (dense): Linear(in_features=3072, out_features=768, bias=True)\n",
              "            (LayerNorm): LayerNorm((768,), eps=1e-12, elementwise_affine=True)\n",
              "            (dropout): Dropout(p=0.1, inplace=False)\n",
              "          )\n",
              "        )\n",
              "      )\n",
              "    )\n",
              "    (pooler): BertPooler(\n",
              "      (dense): Linear(in_features=768, out_features=768, bias=True)\n",
              "      (activation): Tanh()\n",
              "    )\n",
              "  )\n",
              "  (dropout): Dropout(p=0.1, inplace=False)\n",
              "  (classifier): Linear(in_features=768, out_features=3, bias=True)\n",
              ")"
            ]
          },
          "metadata": {},
          "execution_count": 18
        }
      ]
    },
    {
      "cell_type": "code",
      "source": [
        "from transformers import AdamW\n",
        "optimizer = AdamW(classification_model.parameters(),\n",
        "                  lr = 5e-5, # default is 5e-5\n",
        "                  eps = 1e-8 # default is 1e-8\n",
        "                 )"
      ],
      "metadata": {
        "id": "lBOzhkq_WSA3"
      },
      "execution_count": 19,
      "outputs": []
    },
    {
      "cell_type": "code",
      "source": [
        "from transformers import get_linear_schedule_with_warmup\n",
        "\n",
        "# Number of training epochs. The BERT authors recommend between 2 and 4. \n",
        "# 4 may be over-fitting the training data.\n",
        "epochs = 2\n",
        "\n",
        "# Total number of training steps is [number of batches] x [number of epochs]. \n",
        "# (Note that this is not the same as the number of training samples).\n",
        "total_steps = len(train_dataloader) * epochs\n",
        "\n",
        "# Create the learning rate scheduler.\n",
        "scheduler = get_linear_schedule_with_warmup(optimizer, \n",
        "                                            num_warmup_steps = 0, # Default value in run_glue.py\n",
        "                                            num_training_steps = total_steps)\n"
      ],
      "metadata": {
        "id": "NWUGUCK6a-Aj"
      },
      "execution_count": 20,
      "outputs": []
    },
    {
      "cell_type": "code",
      "source": [
        "import time\n",
        "import datetime\n",
        "\n",
        "def format_time(elapsed):\n",
        "    '''\n",
        "    Takes a time in seconds and returns a string hh:mm:ss\n",
        "    '''\n",
        "    # Round to the nearest second.\n",
        "    elapsed_rounded = int(round((elapsed)))\n",
        "    \n",
        "    # Format as hh:mm:ss\n",
        "    return str(datetime.timedelta(seconds=elapsed_rounded))\n",
        "\n"
      ],
      "metadata": {
        "id": "xaIuwdvubLyq"
      },
      "execution_count": 21,
      "outputs": []
    },
    {
      "cell_type": "code",
      "source": [
        "def train_regression(model, optimizer, scheduler, loss_function, epochs,       \n",
        "          train_dataloader, validation_dataloader, device, clip_value=1.0):\n",
        "    training_stats = {\"step_loss\": [], \"val_loss\": [], \"val_r2\": []}\n",
        "\n",
        "    # Measure the total training time for the whole run.\n",
        "    total_t0 = time.time()\n",
        "\n",
        "    # Measure how long the training epoch takes.\n",
        "    for epoch in range(epochs):\n",
        "        print(f\"Epoch {epoch + 1}\")\n",
        "\n",
        "        # Training\n",
        "        t0 = time.time()\n",
        "        best_loss = 1e10\n",
        "        total_epoch_loss = 0\n",
        "        rolling_epoch_loss = 0\n",
        "\n",
        "        model.train()\n",
        "        for step, batch in enumerate(train_dataloader):\n",
        "            if step % 40 == 0 and not step == 0:\n",
        "                print('  Batch {:>5,}  of  {:>5,}.    Elapsed: {:}.'.format(step, len(train_dataloader), format_time(time.time() - t0)))\n",
        "\n",
        "            batch_inputs, batch_masks, batch_labels = tuple(b.to(device) for b in batch)\n",
        "            model.zero_grad()\n",
        "\n",
        "            outputs = model(batch_inputs, batch_masks)           \n",
        "            loss = loss_function(outputs.squeeze(), batch_labels.squeeze())\n",
        "\n",
        "            total_epoch_loss += loss.item()\n",
        "            rolling_epoch_loss += loss.item()\n",
        "            if step % 40 == 0 and not step == 0:\n",
        "                training_stats[\"step_loss\"].append(rolling_epoch_loss / 40)\n",
        "                print(f\"  Avg batch loss is {rolling_epoch_loss / 40}\")\n",
        "                rolling_epoch_loss = 0\n",
        "\n",
        "            loss.backward()\n",
        "            nn.utils.clip_grad_norm_(model.parameters(), clip_value)\n",
        "            optimizer.step()\n",
        "            scheduler.step()\n",
        "\n",
        "        \n",
        "        avg_train_loss = total_epoch_loss / len(train_dataloader)\n",
        "        training_time = format_time(time.time() - t0)\n",
        "\n",
        "        print(\"  Average training loss: {0:.2f}\".format(avg_train_loss))\n",
        "        print(\"  Training epoch took: {:}\".format(training_time))\n",
        "\n",
        "        t0 = time.time()\n",
        "\n",
        "        # Validation\n",
        "        val_loss, val_r2 = evaluate_regression(model, loss_function, validation_dataloader, device)\n",
        "        training_stats[\"val_loss\"].append(val_loss)\n",
        "        training_stats[\"val_r2\"].append(val_r2)\n",
        "\n",
        "        avg_val_loss = np.mean(val_loss)\n",
        "        validation_time = format_time(time.time() - t0)\n",
        "        \n",
        "        print(\"  Validation Loss: {0:.2f}\".format(avg_val_loss))\n",
        "        print(\"  Validation took: {:}\".format(validation_time))\n",
        "\n",
        "    print()\n",
        "                \n",
        "    return training_stats\n",
        "\n",
        "def evaluate_regression(model, loss_function, test_dataloader, device):\n",
        "    model.eval()\n",
        "    test_loss = 0\n",
        "    test_r2 = 0\n",
        "    for batch in test_dataloader:\n",
        "        batch_inputs, batch_masks, batch_labels = tuple(b.to(device) for b in batch)\n",
        "        with torch.no_grad():\n",
        "            outputs = model(batch_inputs, batch_masks)\n",
        "            loss = loss_function(outputs.squeeze(), batch_labels.squeeze())\n",
        "        \n",
        "        test_loss += loss.item()\n",
        "        test_r2 += r2_score(outputs, batch_labels)\n",
        "    return test_loss, test_r2\n",
        "\n",
        "def r2_score(outputs, labels):\n",
        "    outputs = torch.tensor(outputs).type(torch.FloatTensor)\n",
        "    labels = torch.tensor(labels).type(torch.FloatTensor)\n",
        "    labels_mean = torch.mean(labels)\n",
        "    ss_tot = torch.sum((labels - labels_mean) ** 2)\n",
        "    ss_res = torch.sum((labels - outputs) ** 2)\n",
        "    r2 = 1 - ss_res / ss_tot\n",
        "    return r2\n"
      ],
      "metadata": {
        "id": "LUpmnzeJgy46"
      },
      "execution_count": 22,
      "outputs": []
    },
    {
      "cell_type": "code",
      "source": [
        "def train_classifier(model, optimizer, scheduler, epochs, train_dataloader,\n",
        "                     validation_dataloader, device, clip_value=1.0):\n",
        "    training_stats = {\"step_loss\": [], \"val_loss\": [], \"val_acc\": []}\n",
        "\n",
        "    # Measure the total training time for the whole run.\n",
        "    total_t0 = time.time()\n",
        "\n",
        "    # initial eval\n",
        "    init_loss, init_acc = evaluate_classifier(model, validation_dataloader, device)\n",
        "    print(\"  Initial Loss: {0:.2f}\".format(init_loss))\n",
        "    print(\"  Initial Acc:  {0:.2f}\".format(init_acc))\n",
        "\n",
        "    # Measure how long the training epoch takes.\n",
        "    for epoch in range(epochs):\n",
        "        print(f\"Epoch {epoch + 1}\")\n",
        "\n",
        "        # Training\n",
        "        t0 = time.time()\n",
        "        best_loss = 1e10\n",
        "        total_epoch_loss = 0\n",
        "        rolling_epoch_loss = 0\n",
        "\n",
        "        model.train()\n",
        "        for step, batch in enumerate(train_dataloader):\n",
        "            if step % 40 == 0 and not step == 0:\n",
        "                print('  Batch {:>5,}  of  {:>5,}.    Elapsed: {:}.'.format(step, len(train_dataloader), format_time(time.time() - t0)))\n",
        "\n",
        "            batch_inputs, batch_masks, batch_labels = tuple(b.to(device) for b in batch)\n",
        "            model.zero_grad()\n",
        "\n",
        "            loss, logits = model(batch_inputs, \n",
        "                                 token_type_ids=None, \n",
        "                                 attention_mask=batch_masks, \n",
        "                                 labels=batch_labels,\n",
        "                                 return_dict=False)\n",
        "\n",
        "            total_epoch_loss += loss.item()\n",
        "            rolling_epoch_loss += loss.item()\n",
        "            if step % 40 == 0 and not step == 0:\n",
        "                training_stats[\"step_loss\"].append(rolling_epoch_loss / 40)\n",
        "                print(f\"  Avg batch loss is {rolling_epoch_loss / 40}\")\n",
        "                rolling_epoch_loss = 0\n",
        "\n",
        "            loss.backward()\n",
        "            nn.utils.clip_grad_norm_(model.parameters(), clip_value)\n",
        "            optimizer.step()\n",
        "            scheduler.step()\n",
        "        \n",
        "        avg_train_loss = total_epoch_loss / len(train_dataloader)\n",
        "        training_time = format_time(time.time() - t0)\n",
        "\n",
        "        print(\"  Average training loss: {0:.4f}\".format(avg_train_loss))\n",
        "        print(\"  Training epoch took: {:}\".format(training_time))\n",
        "\n",
        "        # Validation\n",
        "        t0 = time.time()\n",
        "        val_loss, val_acc = evaluate_classifier(model, validation_dataloader, device)\n",
        "        training_stats[\"val_loss\"].append(val_loss)\n",
        "        training_stats[\"val_acc\"].append(val_acc)\n",
        "\n",
        "        validation_time = format_time(time.time() - t0)\n",
        "        \n",
        "        print(\"  Validation Loss: {0:.4f}\".format(val_loss))\n",
        "        print(\"  Validation Acc:  {0:.4f}\".format(val_acc))\n",
        "        print(\"  Validation took: {:}\".format(validation_time))\n",
        "\n",
        "    print()\n",
        "                \n",
        "    return training_stats\n",
        "\n",
        "def evaluate_classifier(model, test_dataloader, device):\n",
        "    model.eval()\n",
        "    test_loss = 0\n",
        "    test_acc = 0\n",
        "    for batch in test_dataloader:\n",
        "        batch_inputs, batch_masks, batch_labels = \\\n",
        "                                 tuple(b.to(device) for b in batch)\n",
        "\n",
        "        with torch.no_grad():\n",
        "            loss, logits = model(batch_inputs, \n",
        "                                 token_type_ids=None, \n",
        "                                 attention_mask=batch_masks, \n",
        "                                 labels=batch_labels,\n",
        "                                 return_dict=False)\n",
        "        test_loss += loss.item()\n",
        "\n",
        "        logits = logits.detach().cpu().numpy()\n",
        "        label_ids = batch_labels.to('cpu').numpy()\n",
        "\n",
        "        test_acc += flat_accuracy(logits, label_ids)\n",
        "\n",
        "    test_loss = test_loss / len(test_dataloader)\n",
        "    test_acc = test_acc / len(test_dataloader)\n",
        "    \n",
        "    return test_loss, test_acc\n",
        "\n",
        "# Function to calculate the accuracy of our predictions vs labels\n",
        "def flat_accuracy(preds, labels):\n",
        "    pred_flat = np.argmax(preds, axis=1).flatten()\n",
        "    labels_flat = np.argmax(labels, axis=1).flatten()\n",
        "    return np.sum(pred_flat == labels_flat) / len(labels_flat)\n"
      ],
      "metadata": {
        "id": "4pafn3IbPMpd"
      },
      "execution_count": 32,
      "outputs": []
    },
    {
      "cell_type": "code",
      "source": [
        "#loss_function = nn.MSELoss()\n",
        "#loss_function = nn.CrossEntropyLoss()\n",
        "\n",
        "training_stats = train_classifier(classification_model, optimizer, scheduler, epochs,\n",
        "                       train_dataloader, validation_dataloader, device)\n",
        "\n",
        "test_loss, test_acc = evaluate_classifier(classification_model, test_dataloader, device)\n",
        "\n",
        "print(\"Test Loss: {0:.2f}\".format(test_loss))\n",
        "print(\"Test Acc:  {0:.2f}\".format(test_acc))\n"
      ],
      "metadata": {
        "colab": {
          "base_uri": "https://localhost:8080/"
        },
        "id": "C49IM3abeZD8",
        "outputId": "942115b9-1c56-44d3-afb7-1dc85f8a6a62"
      },
      "execution_count": 24,
      "outputs": [
        {
          "output_type": "stream",
          "name": "stdout",
          "text": [
            "  Initial Loss: 0.66\n",
            "  Initial Acc:  0.31\n",
            "Epoch 1\n",
            "  Batch    40  of    750.    Elapsed: 0:01:05.\n",
            "  Avg batch loss is 0.6566499575972558\n",
            "  Batch    80  of    750.    Elapsed: 0:02:10.\n",
            "  Avg batch loss is 0.6365591675043106\n",
            "  Batch   120  of    750.    Elapsed: 0:03:15.\n",
            "  Avg batch loss is 0.6302739247679711\n",
            "  Batch   160  of    750.    Elapsed: 0:04:20.\n",
            "  Avg batch loss is 0.6269884943962097\n",
            "  Batch   200  of    750.    Elapsed: 0:05:25.\n",
            "  Avg batch loss is 0.6278804630041123\n",
            "  Batch   240  of    750.    Elapsed: 0:06:30.\n",
            "  Avg batch loss is 0.6314279779791832\n",
            "  Batch   280  of    750.    Elapsed: 0:07:35.\n",
            "  Avg batch loss is 0.6282473027706146\n",
            "  Batch   320  of    750.    Elapsed: 0:08:39.\n",
            "  Avg batch loss is 0.6254974141716957\n",
            "  Batch   360  of    750.    Elapsed: 0:09:44.\n",
            "  Avg batch loss is 0.6241099417209626\n",
            "  Batch   400  of    750.    Elapsed: 0:10:49.\n",
            "  Avg batch loss is 0.6201526880264282\n",
            "  Batch   440  of    750.    Elapsed: 0:11:54.\n",
            "  Avg batch loss is 0.6200444623827934\n",
            "  Batch   480  of    750.    Elapsed: 0:12:59.\n",
            "  Avg batch loss is 0.6231630250811577\n",
            "  Batch   520  of    750.    Elapsed: 0:14:03.\n",
            "  Avg batch loss is 0.6237949684262276\n",
            "  Batch   560  of    750.    Elapsed: 0:15:08.\n",
            "  Avg batch loss is 0.6184008613228797\n",
            "  Batch   600  of    750.    Elapsed: 0:16:13.\n",
            "  Avg batch loss is 0.6196055695414543\n",
            "  Batch   640  of    750.    Elapsed: 0:17:18.\n",
            "  Avg batch loss is 0.6200686693191528\n",
            "  Batch   680  of    750.    Elapsed: 0:18:23.\n",
            "  Avg batch loss is 0.6136069670319557\n",
            "  Batch   720  of    750.    Elapsed: 0:19:27.\n",
            "  Avg batch loss is 0.6139664858579635\n",
            "  Average training loss: 0.62\n",
            "  Training epoch took: 0:20:16\n",
            "  Validation Loss: 0.63\n",
            "  Validation Acc:  0.40\n",
            "  Validation took: 0:00:55\n",
            "Epoch 2\n",
            "  Batch    40  of    750.    Elapsed: 0:01:05.\n",
            "  Avg batch loss is 0.6107266426086426\n",
            "  Batch    80  of    750.    Elapsed: 0:02:10.\n",
            "  Avg batch loss is 0.5830206617712974\n",
            "  Batch   120  of    750.    Elapsed: 0:03:14.\n",
            "  Avg batch loss is 0.5871567949652672\n",
            "  Batch   160  of    750.    Elapsed: 0:04:19.\n",
            "  Avg batch loss is 0.5799291409552098\n",
            "  Batch   200  of    750.    Elapsed: 0:05:24.\n",
            "  Avg batch loss is 0.5834251791238785\n",
            "  Batch   240  of    750.    Elapsed: 0:06:29.\n",
            "  Avg batch loss is 0.5770518474280835\n",
            "  Batch   280  of    750.    Elapsed: 0:07:34.\n",
            "  Avg batch loss is 0.5715190149843693\n",
            "  Batch   320  of    750.    Elapsed: 0:08:38.\n",
            "  Avg batch loss is 0.5849314466118812\n",
            "  Batch   360  of    750.    Elapsed: 0:09:43.\n",
            "  Avg batch loss is 0.5756293877959251\n",
            "  Batch   400  of    750.    Elapsed: 0:10:48.\n",
            "  Avg batch loss is 0.5725854970514774\n",
            "  Batch   440  of    750.    Elapsed: 0:11:53.\n",
            "  Avg batch loss is 0.5706725977361202\n",
            "  Batch   480  of    750.    Elapsed: 0:12:57.\n",
            "  Avg batch loss is 0.5853719383478164\n",
            "  Batch   520  of    750.    Elapsed: 0:14:02.\n",
            "  Avg batch loss is 0.5602418914437294\n",
            "  Batch   560  of    750.    Elapsed: 0:15:07.\n",
            "  Avg batch loss is 0.5835353255271911\n",
            "  Batch   600  of    750.    Elapsed: 0:16:11.\n",
            "  Avg batch loss is 0.5681729644536972\n",
            "  Batch   640  of    750.    Elapsed: 0:17:16.\n",
            "  Avg batch loss is 0.5729239992797375\n",
            "  Batch   680  of    750.    Elapsed: 0:18:21.\n",
            "  Avg batch loss is 0.5606008522212506\n",
            "  Batch   720  of    750.    Elapsed: 0:19:25.\n",
            "  Avg batch loss is 0.5683114223182202\n",
            "  Average training loss: 0.58\n",
            "  Training epoch took: 0:20:14\n",
            "  Validation Loss: 0.64\n",
            "  Validation Acc:  0.42\n",
            "  Validation took: 0:00:55\n",
            "\n",
            "Test Loss: 0.63\n",
            "Test Acc:  0.43\n"
          ]
        }
      ]
    },
    {
      "cell_type": "code",
      "source": [
        "print(training_stats)"
      ],
      "metadata": {
        "colab": {
          "base_uri": "https://localhost:8080/"
        },
        "id": "SAK2dcG8w0cv",
        "outputId": "eb0b1425-164d-4b2d-f3e1-8b4f2ff74095"
      },
      "execution_count": 25,
      "outputs": [
        {
          "output_type": "stream",
          "name": "stdout",
          "text": [
            "{'step_loss': [0.6566499575972558, 0.6365591675043106, 0.6302739247679711, 0.6269884943962097, 0.6278804630041123, 0.6314279779791832, 0.6282473027706146, 0.6254974141716957, 0.6241099417209626, 0.6201526880264282, 0.6200444623827934, 0.6231630250811577, 0.6237949684262276, 0.6184008613228797, 0.6196055695414543, 0.6200686693191528, 0.6136069670319557, 0.6139664858579635, 0.6107266426086426, 0.5830206617712974, 0.5871567949652672, 0.5799291409552098, 0.5834251791238785, 0.5770518474280835, 0.5715190149843693, 0.5849314466118812, 0.5756293877959251, 0.5725854970514774, 0.5706725977361202, 0.5853719383478164, 0.5602418914437294, 0.5835353255271911, 0.5681729644536972, 0.5729239992797375, 0.5606008522212506, 0.5683114223182202], 'val_loss': [0.6272988072101106, 0.6367039598049001], 'val_acc': [0.40214982269503546, 0.42253989361702127]}\n"
          ]
        }
      ]
    },
    {
      "cell_type": "code",
      "source": [
        "# Computing F1 scores instead of raw acc\n",
        "def eval_F1(model, test_dataloader, device, classes):\n",
        "  model.eval()\n",
        "  f1scores = []\n",
        "  for c in range(classes):\n",
        "    # [tp, tn, fp, fn]\n",
        "    f1scores.append([0] * 4)\n",
        "\n",
        "  for batch in test_dataloader:\n",
        "    batch_inputs, batch_masks, batch_labels = \\\n",
        "                                tuple(b.to(device) for b in batch)\n",
        "    with torch.no_grad():\n",
        "      loss, logits = model(batch_inputs,\n",
        "                            token_type_ids=None,\n",
        "                            attention_mask=batch_masks,\n",
        "                            labels=batch_labels,\n",
        "                            return_dict=False)\n",
        "      \n",
        "    logits = logits.detach().cpu().numpy()\n",
        "    label_ids = batch_labels.to('cpu').numpy()\n",
        "    \n",
        "    pred_flat = np.argmax(logits, axis=1).flatten()\n",
        "    label_flat = np.argmax(label_ids, axis=1).flatten()\n",
        "    for pred, label in zip(pred_flat, label_flat):\n",
        "      for c in range(classes):\n",
        "        if pred == c and label == c:\n",
        "          # true positive\n",
        "          f1scores[c][0] += 1\n",
        "        elif pred == c and label != c:\n",
        "          # false positive\n",
        "          f1scores[c][2] += 1\n",
        "        elif pred != c and label == c:\n",
        "          # false negative\n",
        "          f1scores[c][3] += 1\n",
        "        else:\n",
        "          # true negative\n",
        "          f1scores[c][1] += 1\n",
        "\n",
        "  output = []\n",
        "  for c in range(classes):\n",
        "    output.append(f1scores[c][0] / (f1scores[c][0] + 0.5 * (f1scores[c][1] + f1scores[c][2])))\n",
        "\n",
        "  return output\n",
        "\n"
      ],
      "metadata": {
        "id": "crapXPWDZvzT"
      },
      "execution_count": 27,
      "outputs": []
    },
    {
      "cell_type": "code",
      "source": [
        "f1scores = eval_F1(classification_model, test_dataloader, device, 3)\n",
        "print(f1scores)"
      ],
      "metadata": {
        "colab": {
          "base_uri": "https://localhost:8080/"
        },
        "id": "nG4ZfiUgdxPR",
        "outputId": "f2b85ae2-88ed-499d-db9a-482f806a736b"
      },
      "execution_count": 28,
      "outputs": [
        {
          "output_type": "stream",
          "name": "stdout",
          "text": [
            "[0.3297587131367292, 0.20531113753468094, 0.34952722530159763]\n"
          ]
        }
      ]
    },
    {
      "cell_type": "code",
      "source": [
        "from numpy.lib.shape_base import vsplit\n",
        "import matplotlib.pyplot as plt\n",
        "\n",
        "#for val in training_stats[\"val_loss\"]:\n",
        "#    losses += val\n",
        "#for val in training_stats[\"val_r2\"]:\n",
        "#    r2s += val\n",
        "\n",
        "def plot_help(data, xlabel, ylabel, xscale=1, xoff=0):\n",
        "    x = np.array(range(len(data))) * xscale + xoff\n",
        "    plt.plot(x, data)\n",
        "    plt.xlabel(xlabel)\n",
        "    plt.ylabel(ylabel)\n",
        "    plt.show()\n",
        "    \n",
        "plot_help(training_stats[\"step_loss\"], \"step\", \"loss\", 40)\n",
        "plot_help(training_stats[\"val_loss\"], \"epoch\", \"loss\", xoff=1)\n",
        "plot_help(training_stats[\"val_acc\"], \"epoch\", \"acc\")\n"
      ],
      "metadata": {
        "colab": {
          "base_uri": "https://localhost:8080/",
          "height": 804
        },
        "id": "Hq3_2xIC_8VY",
        "outputId": "bb36c397-6483-47ad-80b2-3181854c9681"
      },
      "execution_count": 37,
      "outputs": [
        {
          "output_type": "display_data",
          "data": {
            "image/png": "[encoded data removed]",
            "text/plain": [
              "<Figure size 432x288 with 1 Axes>"
            ]
          },
          "metadata": {
            "needs_background": "light"
          }
        },
        {
          "output_type": "display_data",
          "data": {
            "image/png": "[encoded data removed]",
            "text/plain": [
              "<Figure size 432x288 with 1 Axes>"
            ]
          },
          "metadata": {
            "needs_background": "light"
          }
        },
        {
          "output_type": "display_data",
          "data": {
            "image/png": "[encoded data removed]",
            "text/plain": [
              "<Figure size 432x288 with 1 Axes>"
            ]
          },
          "metadata": {
            "needs_background": "light"
          }
        }
      ]
    },
    {
      "cell_type": "code",
      "source": [
        "training_stats2 = train_classifier(classification_model, optimizer, scheduler, 2,\n",
        "                       train_dataloader, validation_dataloader, device)\n",
        "\n",
        "test_loss2, test_acc2 = evaluate_classifier(classification_model, test_dataloader, device)\n",
        "\n",
        "print(\"Test Loss: {0:.2f}\".format(test_loss2))\n",
        "print(\"Test Acc:  {0:.2f}\".format(test_acc2))"
      ],
      "metadata": {
        "colab": {
          "base_uri": "https://localhost:8080/"
        },
        "id": "kZgjm7l387G-",
        "outputId": "be8d8dde-e6f8-4f9d-e06b-8e4976e702da"
      },
      "execution_count": 30,
      "outputs": [
        {
          "output_type": "stream",
          "name": "stdout",
          "text": [
            "  Initial Loss: 0.64\n",
            "  Initial Acc:  0.42\n",
            "Epoch 1\n",
            "  Batch    40  of    750.    Elapsed: 0:01:05.\n",
            "  Avg batch loss is 0.5342739403247834\n",
            "  Batch    80  of    750.    Elapsed: 0:02:10.\n",
            "  Avg batch loss is 0.5191659919917584\n",
            "  Batch   120  of    750.    Elapsed: 0:03:15.\n",
            "  Avg batch loss is 0.5220447219908237\n",
            "  Batch   160  of    750.    Elapsed: 0:04:20.\n",
            "  Avg batch loss is 0.5284428492188453\n",
            "  Batch   200  of    750.    Elapsed: 0:05:24.\n",
            "  Avg batch loss is 0.5157223217189312\n",
            "  Batch   240  of    750.    Elapsed: 0:06:29.\n",
            "  Avg batch loss is 0.5189887046813965\n",
            "  Batch   280  of    750.    Elapsed: 0:07:34.\n",
            "  Avg batch loss is 0.5257378712296485\n",
            "  Batch   320  of    750.    Elapsed: 0:08:39.\n",
            "  Avg batch loss is 0.5295469135046005\n",
            "  Batch   360  of    750.    Elapsed: 0:09:44.\n",
            "  Avg batch loss is 0.5192633837461471\n",
            "  Batch   400  of    750.    Elapsed: 0:10:48.\n",
            "  Avg batch loss is 0.5309652008116246\n",
            "  Batch   440  of    750.    Elapsed: 0:11:53.\n",
            "  Avg batch loss is 0.516742404550314\n",
            "  Batch   480  of    750.    Elapsed: 0:12:58.\n",
            "  Avg batch loss is 0.524622306972742\n",
            "  Batch   520  of    750.    Elapsed: 0:14:03.\n",
            "  Avg batch loss is 0.527506373077631\n",
            "  Batch   560  of    750.    Elapsed: 0:15:08.\n",
            "  Avg batch loss is 0.5136370413005352\n",
            "  Batch   600  of    750.    Elapsed: 0:16:12.\n",
            "  Avg batch loss is 0.5163088344037533\n",
            "  Batch   640  of    750.    Elapsed: 0:17:17.\n",
            "  Avg batch loss is 0.5187984950840473\n",
            "  Batch   680  of    750.    Elapsed: 0:18:22.\n",
            "  Avg batch loss is 0.5192172788083553\n",
            "  Batch   720  of    750.    Elapsed: 0:19:27.\n",
            "  Avg batch loss is 0.5197697751224041\n",
            "  Average training loss: 0.52\n",
            "  Training epoch took: 0:20:15\n",
            "  Validation Loss: 0.64\n",
            "  Validation Acc:  0.42\n",
            "  Validation took: 0:00:55\n",
            "Epoch 2\n",
            "  Batch    40  of    750.    Elapsed: 0:01:05.\n",
            "  Avg batch loss is 0.5418641097843647\n",
            "  Batch    80  of    750.    Elapsed: 0:02:09.\n",
            "  Avg batch loss is 0.5343354016542434\n",
            "  Batch   120  of    750.    Elapsed: 0:03:14.\n",
            "  Avg batch loss is 0.5286437891423702\n",
            "  Batch   160  of    750.    Elapsed: 0:04:19.\n",
            "  Avg batch loss is 0.5186937421560287\n",
            "  Batch   200  of    750.    Elapsed: 0:05:23.\n",
            "  Avg batch loss is 0.523828212171793\n",
            "  Batch   240  of    750.    Elapsed: 0:06:28.\n",
            "  Avg batch loss is 0.526924217492342\n",
            "  Batch   280  of    750.    Elapsed: 0:07:33.\n",
            "  Avg batch loss is 0.5194802388548851\n",
            "  Batch   320  of    750.    Elapsed: 0:08:37.\n",
            "  Avg batch loss is 0.5093069285154342\n",
            "  Batch   360  of    750.    Elapsed: 0:09:42.\n",
            "  Avg batch loss is 0.514228954911232\n",
            "  Batch   400  of    750.    Elapsed: 0:10:47.\n",
            "  Avg batch loss is 0.5246688537299633\n",
            "  Batch   440  of    750.    Elapsed: 0:11:51.\n",
            "  Avg batch loss is 0.5165574140846729\n",
            "  Batch   480  of    750.    Elapsed: 0:12:56.\n",
            "  Avg batch loss is 0.5107233121991157\n",
            "  Batch   520  of    750.    Elapsed: 0:14:01.\n",
            "  Avg batch loss is 0.5241286054253578\n",
            "  Batch   560  of    750.    Elapsed: 0:15:05.\n",
            "  Avg batch loss is 0.5203753344714641\n",
            "  Batch   600  of    750.    Elapsed: 0:16:10.\n",
            "  Avg batch loss is 0.5238414779305458\n",
            "  Batch   640  of    750.    Elapsed: 0:17:15.\n",
            "  Avg batch loss is 0.5200384423136711\n",
            "  Batch   680  of    750.    Elapsed: 0:18:19.\n",
            "  Avg batch loss is 0.5313230641186237\n",
            "  Batch   720  of    750.    Elapsed: 0:19:24.\n",
            "  Avg batch loss is 0.5253540560603142\n",
            "  Average training loss: 0.52\n",
            "  Training epoch took: 0:20:13\n",
            "  Validation Loss: 0.64\n",
            "  Validation Acc:  0.42\n",
            "  Validation took: 0:00:55\n",
            "\n",
            "Test Loss: 0.63\n",
            "Test Acc:  0.43\n"
          ]
        }
      ]
    },
    {
      "cell_type": "code",
      "source": [
        "steploss = training_stats[\"step_loss\"] + training_stats2[\"step_loss\"]\n",
        "valloss = training_stats[\"val_loss\"] + training_stats2[\"val_loss\"]\n",
        "accuracy = training_stats[\"val_acc\"] + training_stats2[\"val_acc\"]\n",
        "\n",
        "plot_help(steploss, \"step\", \"loss\", 40)\n",
        "plot_help(valloss, \"epoch\", \"loss\")\n",
        "plot_help(accuracy, \"epoch\", \"acc\")"
      ],
      "metadata": {
        "colab": {
          "base_uri": "https://localhost:8080/",
          "height": 803
        },
        "id": "CD6UJjhXHaSr",
        "outputId": "6d6f4c6f-3599-4630-ceea-eaf90120f189"
      },
      "execution_count": 31,
      "outputs": [
        {
          "output_type": "display_data",
          "data": {
            "image/png": "[encoded data removed]",
            "text/plain": [
              "<Figure size 432x288 with 1 Axes>"
            ]
          },
          "metadata": {
            "needs_background": "light"
          }
        },
        {
          "output_type": "display_data",
          "data": {
            "image/png": "[encoded data removed]",
            "text/plain": [
              "<Figure size 432x288 with 1 Axes>"
            ]
          },
          "metadata": {
            "needs_background": "light"
          }
        },
        {
          "output_type": "display_data",
          "data": {
            "image/png": "[encoded data removed]",
            "text/plain": [
              "<Figure size 432x288 with 1 Axes>"
            ]
          },
          "metadata": {
            "needs_background": "light"
          }
        }
      ]
    },
    {
      "cell_type": "code",
      "source": [
        "\n",
        "optimizer = AdamW(classification_model.parameters(),\n",
        "                  lr = 1e-5, # default is 5e-5\n",
        "                  eps = 1e-8 # default is 1e-8\n",
        "                 )\n",
        "\n",
        "# Number of training epochs. The BERT authors recommend between 2 and 4. \n",
        "# 4 may be over-fitting the training data.\n",
        "epochs = 2\n",
        "\n",
        "# Total number of training steps is [number of batches] x [number of epochs]. \n",
        "# (Note that this is not the same as the number of training samples).\n",
        "total_steps = len(train_dataloader) * epochs\n",
        "\n",
        "# Create the learning rate scheduler.\n",
        "scheduler = get_linear_schedule_with_warmup(optimizer, \n",
        "                                            num_warmup_steps = 0, # Default value in run_glue.py\n",
        "                                            num_training_steps = total_steps)\n",
        "\n",
        "training_stats3 = train_classifier(classification_model, optimizer, scheduler, 2,\n",
        "                       train_dataloader, validation_dataloader, device)\n",
        "\n",
        "test_loss3, test_acc3 = evaluate_classifier(classification_model, test_dataloader, device)\n",
        "\n",
        "print(\"Test Loss: {0:.4f}\".format(test_loss3))\n",
        "print(\"Test Acc:  {0:.4f}\".format(test_acc3))"
      ],
      "metadata": {
        "colab": {
          "base_uri": "https://localhost:8080/"
        },
        "id": "WFRAH7WfGwiV",
        "outputId": "56c24908-f7dc-403c-9ebf-46217f1ac239"
      },
      "execution_count": 33,
      "outputs": [
        {
          "output_type": "stream",
          "name": "stdout",
          "text": [
            "  Initial Loss: 0.64\n",
            "  Initial Acc:  0.42\n",
            "Epoch 1\n",
            "  Batch    40  of    750.    Elapsed: 0:01:05.\n",
            "  Avg batch loss is 0.5384556829929352\n",
            "  Batch    80  of    750.    Elapsed: 0:02:09.\n",
            "  Avg batch loss is 0.5283154405653476\n",
            "  Batch   120  of    750.    Elapsed: 0:03:14.\n",
            "  Avg batch loss is 0.5089309096336365\n",
            "  Batch   160  of    750.    Elapsed: 0:04:19.\n",
            "  Avg batch loss is 0.5348901338875294\n",
            "  Batch   200  of    750.    Elapsed: 0:05:24.\n",
            "  Avg batch loss is 0.5007794238626957\n",
            "  Batch   240  of    750.    Elapsed: 0:06:28.\n",
            "  Avg batch loss is 0.5100538283586502\n",
            "  Batch   280  of    750.    Elapsed: 0:07:33.\n",
            "  Avg batch loss is 0.506185857206583\n",
            "  Batch   320  of    750.    Elapsed: 0:08:38.\n",
            "  Avg batch loss is 0.5145819328725338\n",
            "  Batch   360  of    750.    Elapsed: 0:09:42.\n",
            "  Avg batch loss is 0.5010452210903168\n",
            "  Batch   400  of    750.    Elapsed: 0:10:47.\n",
            "  Avg batch loss is 0.5081954710185528\n",
            "  Batch   440  of    750.    Elapsed: 0:11:51.\n",
            "  Avg batch loss is 0.5092149518430233\n",
            "  Batch   480  of    750.    Elapsed: 0:12:56.\n",
            "  Avg batch loss is 0.5058305881917476\n",
            "  Batch   520  of    750.    Elapsed: 0:14:01.\n",
            "  Avg batch loss is 0.5054167233407497\n",
            "  Batch   560  of    750.    Elapsed: 0:15:05.\n",
            "  Avg batch loss is 0.5110325425863266\n",
            "  Batch   600  of    750.    Elapsed: 0:16:10.\n",
            "  Avg batch loss is 0.5098768323659897\n",
            "  Batch   640  of    750.    Elapsed: 0:17:15.\n",
            "  Avg batch loss is 0.5015340402722359\n",
            "  Batch   680  of    750.    Elapsed: 0:18:19.\n",
            "  Avg batch loss is 0.4938231907784939\n",
            "  Batch   720  of    750.    Elapsed: 0:19:24.\n",
            "  Avg batch loss is 0.5039716213941574\n",
            "  Average training loss: 0.5093\n",
            "  Training epoch took: 0:20:12\n",
            "  Validation Loss: 0.6947\n",
            "  Validation Acc:  0.4129\n",
            "  Validation took: 0:00:55\n",
            "Epoch 2\n",
            "  Batch    40  of    750.    Elapsed: 0:01:05.\n",
            "  Avg batch loss is 0.4716138817369938\n",
            "  Batch    80  of    750.    Elapsed: 0:02:09.\n",
            "  Avg batch loss is 0.4505567602813244\n",
            "  Batch   120  of    750.    Elapsed: 0:03:14.\n",
            "  Avg batch loss is 0.4493827871978283\n",
            "  Batch   160  of    750.    Elapsed: 0:04:18.\n",
            "  Avg batch loss is 0.45678991079330444\n",
            "  Batch   200  of    750.    Elapsed: 0:05:23.\n",
            "  Avg batch loss is 0.45233122631907463\n",
            "  Batch   240  of    750.    Elapsed: 0:06:27.\n",
            "  Avg batch loss is 0.46072428300976753\n",
            "  Batch   280  of    750.    Elapsed: 0:07:32.\n",
            "  Avg batch loss is 0.4566899545490742\n",
            "  Batch   320  of    750.    Elapsed: 0:08:37.\n",
            "  Avg batch loss is 0.4594202496111393\n",
            "  Batch   360  of    750.    Elapsed: 0:09:41.\n",
            "  Avg batch loss is 0.4510756731033325\n",
            "  Batch   400  of    750.    Elapsed: 0:10:46.\n",
            "  Avg batch loss is 0.45891938731074333\n",
            "  Batch   440  of    750.    Elapsed: 0:11:51.\n",
            "  Avg batch loss is 0.4548070877790451\n",
            "  Batch   480  of    750.    Elapsed: 0:12:56.\n",
            "  Avg batch loss is 0.46096269637346265\n",
            "  Batch   520  of    750.    Elapsed: 0:14:00.\n",
            "  Avg batch loss is 0.4366491936147213\n",
            "  Batch   560  of    750.    Elapsed: 0:15:05.\n",
            "  Avg batch loss is 0.45333201438188553\n",
            "  Batch   600  of    750.    Elapsed: 0:16:09.\n",
            "  Avg batch loss is 0.45168629810214045\n",
            "  Batch   640  of    750.    Elapsed: 0:17:14.\n",
            "  Avg batch loss is 0.44311260133981706\n",
            "  Batch   680  of    750.    Elapsed: 0:18:19.\n",
            "  Avg batch loss is 0.4491946093738079\n",
            "  Batch   720  of    750.    Elapsed: 0:19:23.\n",
            "  Avg batch loss is 0.43577137365937235\n",
            "  Average training loss: 0.4525\n",
            "  Training epoch took: 0:20:12\n",
            "  Validation Loss: 0.7347\n",
            "  Validation Acc:  0.4110\n",
            "  Validation took: 0:00:55\n",
            "\n",
            "Test Loss: 0.7409\n",
            "Test Acc:  0.4135\n"
          ]
        }
      ]
    },
    {
      "cell_type": "code",
      "source": [
        "fullsteploss = training_stats[\"step_loss\"] + training_stats2[\"step_loss\"] + training_stats3[\"step_loss\"]\n",
        "fullvalloss = training_stats[\"val_loss\"] + training_stats2[\"val_loss\"] + training_stats3[\"val_loss\"]\n",
        "fullvalacc = training_stats[\"val_acc\"] + training_stats2[\"val_acc\"] + training_stats3[\"val_acc\"]\n",
        "\n",
        "plot_help(fullsteploss, \"step\", \"batch loss\", 40)\n",
        "plot_help(fullvalloss, \"epoch\", \"val loss\", xoff=1)\n",
        "plot_help(fullvalacc, \"epoch\", \"val acc\", xoff=1)"
      ],
      "metadata": {
        "colab": {
          "base_uri": "https://localhost:8080/",
          "height": 807
        },
        "id": "R9b0hvNeSD-r",
        "outputId": "995c7988-3d30-4a95-f2a1-303a13c04827"
      },
      "execution_count": 38,
      "outputs": [
        {
          "output_type": "display_data",
          "data": {
            "image/png": "[encoded data removed]",
            "text/plain": [
              "<Figure size 432x288 with 1 Axes>"
            ]
          },
          "metadata": {
            "needs_background": "light"
          }
        },
        {
          "output_type": "display_data",
          "data": {
            "image/png": "[encoded data removed]",
            "text/plain": [
              "<Figure size 432x288 with 1 Axes>"
            ]
          },
          "metadata": {
            "needs_background": "light"
          }
        },
        {
          "output_type": "display_data",
          "data": {
            "image/png": "[encoded data removed]",
            "text/plain": [
              "<Figure size 432x288 with 1 Axes>"
            ]
          },
          "metadata": {
            "needs_background": "light"
          }
        }
      ]
    }
  ],
  "metadata": {
    "colab": {
      "collapsed_sections": [],
      "name": "DeepLearningProject(2).ipynb",
      "provenance": []
    },
    "kernelspec": {
      "display_name": "Python 3",
      "name": "python3"
    },
    "language_info": {
      "name": "python"
    },
    "accelerator": "GPU"
  },
  "nbformat": 4,
  "nbformat_minor": 0
}